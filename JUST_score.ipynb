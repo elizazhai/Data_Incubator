{
 "cells": [
  {
   "cell_type": "markdown",
   "metadata": {},
   "source": [
    "### This notebook demonstrates the predictions of *JUST score* and *market returns* from each other"
   ]
  },
  {
   "cell_type": "code",
   "execution_count": 2,
   "metadata": {
    "collapsed": true
   },
   "outputs": [],
   "source": [
    "import numpy as np\n",
    "import math \n",
    "import matplotlib.pyplot as plt\n",
    "import xlrd\n",
    "import pandas as pd\n",
    "import scipy.cluster.hierarchy as hcluster\n",
    "import scipy.spatial.distance\n",
    "import copy\n",
    "from sklearn.neural_network import MLPRegressor\n",
    "from sklearn.decomposition import PCA\n",
    "import random"
   ]
  },
  {
   "cell_type": "markdown",
   "metadata": {},
   "source": [
    "Now load two data sets. \"company_scores.xlsx\" is for the *JUST scores*, and \"returns1.xlsx\" is for *market returns*. "
   ]
  },
  {
   "cell_type": "code",
   "execution_count": 3,
   "metadata": {
    "collapsed": true
   },
   "outputs": [],
   "source": [
    "returns1_data = xlrd.open_workbook('/Users/xiaobooboo/Desktop/data_incubator/returns1.xlsx')\n",
    "returns1=returns1_data.sheets()[0]\n",
    "\n",
    "scores_data = xlrd.open_workbook('/Users/xiaobooboo/Desktop/data_incubator/company_scores.xlsx')\n",
    "scores= scores_data.sheets()[0]\n",
    "feature_names=scores.row_values(0)[3:]\n",
    "\n",
    "nrows_scores= scores.nrows #1287\n",
    "nperiods_returns1=returns1.ncols #898\n",
    "\n",
    "returns1_ids=returns1.col_values(0)[2:]"
   ]
  },
  {
   "cell_type": "markdown",
   "metadata": {},
   "source": [
    "Load the components of the JUST scores as feature vectors (1x47)."
   ]
  },
  {
   "cell_type": "code",
   "execution_count": 4,
   "metadata": {
    "collapsed": true
   },
   "outputs": [],
   "source": [
    "comp_vectors=[] #length=440 companies in total\n",
    "comp_ids=[]\n",
    "for i in range(1,nrows_scores):\n",
    "    comp_vectors.append(scores.row_values(i)[3:])\n",
    "    comp_ids.append(scores.row_values(i)[0])#---all companies-----\n",
    "comp_vectors=np.asarray(comp_vectors)  "
   ]
  },
  {
   "cell_type": "markdown",
   "metadata": {},
   "source": [
    "First, reduce the dimension of JUST scores by applying PCA (Principal Component Analysis) capturing 98% of variance"
   ]
  },
  {
   "cell_type": "code",
   "execution_count": 5,
   "metadata": {},
   "outputs": [
    {
     "data": {
      "image/png": "[encoded data removed]",
      "text/plain": [
       "<matplotlib.figure.Figure at 0x11116a8d0>"
      ]
     },
     "metadata": {},
     "output_type": "display_data"
    }
   ],
   "source": [
    "best_pca=0\n",
    "ncs=1 #num of components kept\n",
    "variance_bar=0.95\n",
    "\n",
    "howgood=[]\n",
    "ncs_kept=[]\n",
    "while (best_pca<variance_bar) & (ncs<np.size(comp_vectors,1)):\n",
    "    pca = PCA(n_components=ncs)\n",
    "    pca.fit(comp_vectors)\n",
    "    pca_score = pca.explained_variance_ratio_   #array([0.72408528,  0.27427885,  0.00163586])\n",
    "    best_pca=sum(pca_score)\n",
    "    howgood.append(best_pca)\n",
    "    ncs_kept.append(ncs)\n",
    "    ncs=ncs+1\n",
    "    \n",
    "ncs=ncs-1\n",
    "V = pca.components_ \n",
    "\n",
    "plt.figure(1, figsize=(4, 3))\n",
    "plt.clf()\n",
    "plt.axes([.2, .2, .7, .7])\n",
    "plt.plot(ncs_kept, howgood,linestyle='-.',linewidth=2)\n",
    "plt.axis('tight')\n",
    "plt.title('Fig.1: PCA Dimension reduction')\n",
    "plt.xlabel('# of PCAs kept')\n",
    "plt.ylabel('ratio of the variance captured')\n",
    "plt.show()"
   ]
  },
  {
   "cell_type": "markdown",
   "metadata": {},
   "source": [
    "From this figure we see that the first 28 PCAs are already able to capture 98% of the variance. This enables us to reduce the original feature vector of JUST score from 1x47 to 1x28"
   ]
  },
  {
   "cell_type": "code",
   "execution_count": 70,
   "metadata": {
    "collapsed": true
   },
   "outputs": [],
   "source": [
    "comp_reduced=np.ndarray(shape=(len(comp_ids),ncs),dtype=float)\n",
    "for nn in range(len(comp_ids)):\n",
    "    for cc in range(ncs):\n",
    "        comp_reduced[nn,cc]=np.dot(comp_vectors[nn],V[cc])\n",
    "\n",
    "comp_reduced.shape\n",
    "comp_reduced=comp_reduced[1:][:] #(439, 28)\n"
   ]
  },
  {
   "cell_type": "markdown",
   "metadata": {},
   "source": [
    "Now we want to cluster (hierarchical clustering) these companies in terms of their *JUST scores*. "
   ]
  },
  {
   "cell_type": "code",
   "execution_count": 23,
   "metadata": {},
   "outputs": [
    {
     "data": {
      "image/png": "[encoded data removed]",
      "text/plain": [
       "<matplotlib.figure.Figure at 0x1a1182d828>"
      ]
     },
     "metadata": {},
     "output_type": "display_data"
    },
    {
     "data": {
      "text/plain": [
       "3"
      ]
     },
     "execution_count": 23,
     "metadata": {},
     "output_type": "execute_result"
    }
   ],
   "source": [
    "thresh=160 #this number, an arbitrary, results in a category of 3.  \n",
    "clusters = hcluster.fclusterdata(comp_reduced, thresh, criterion=\"distance\")\n",
    "num_clusters=len(set(clusters)) \n",
    "\n",
    "plt.hist(clusters, bins=4)  # arguments are passed to np.histogram\n",
    "plt.xlabel('Euclidean distance')\n",
    "plt.ylabel('Counts')\n",
    "plt.show()\n",
    "num_clusters"
   ]
  },
  {
   "cell_type": "markdown",
   "metadata": {},
   "source": [
    "From the histogram above, we see that only 3% of the companies distinguish themselves from the majority. More clustering techniques need to be further explored. For now, based on the current clustering, we demonstrate just the first compnay with one transition matrix. "
   ]
  },
  {
   "cell_type": "markdown",
   "metadata": {},
   "source": [
    "Below is merging the JUST score table and the market return table. As a result, we get 439 companies with 768 periods "
   ]
  },
  {
   "cell_type": "code",
   "execution_count": null,
   "metadata": {
    "collapsed": true
   },
   "outputs": [],
   "source": [
    "d_returns1 = {'id': returns1_ids}\n",
    "df_returns1 = pd.DataFrame(data=d_returns1)\n",
    "for pp in range(1,nperiods_returns1):\n",
    "    df_returns1[str(int(returns1.col_values(pp)[0]))]=returns1.col_values(pp)[2:]\n",
    "\n",
    "df_returns1 = df_returns1.replace('', np.nan, regex=True) #a dataframe\n",
    "\n",
    "d_compids = {'id': comp_ids}\n",
    "df_compids = pd.DataFrame(data=d_compids) #(440, 1)\n",
    "\n",
    "frames=[df_compids,df_returns1]\n",
    "merged=df_returns1.join(df_compids.set_index('id'), on='id',how='inner') #(439, 898)\n",
    "tmp=merged.dropna(axis=1, how='all') #(439, 768)\n",
    "merged_id_returns1=tmp.dropna(axis=0, how='all') #(439, 768)\n",
    "\n"
   ]
  },
  {
   "cell_type": "markdown",
   "metadata": {},
   "source": [
    "Before we start our statistical analysis, we first define 10 states for the the sequence of periods) of returns and normalize the time series by subtracting the mean."
   ]
  },
  {
   "cell_type": "code",
   "execution_count": null,
   "metadata": {
    "collapsed": true
   },
   "outputs": [],
   "source": [
    "#---Step1: normalize the time series:439 companies, 768 periods------\n",
    "returns1_normalized=copy.copy(merged_id_returns1)\n",
    "\n",
    "\n",
    "for n in range(np.size(merged_id_returns1,0)):\n",
    "    returns1_normalized.iloc[n][:]=merged_id_returns1.iloc[n][:]-np.nanmean(merged_id_returns1.iloc[n][:]) #this is a Series\n",
    "\n",
    "\n",
    "bins=10 # num of states\n",
    "returns1_max=np.nanmax(returns1_normalized.iloc[0][1:].values)\n",
    "returns1_min=np.nanmin(returns1_normalized.iloc[0][1:].values)\n",
    "returns1_std=np.nanstd(returns1_normalized.iloc[0][1:].values)\n",
    "bin_width=(returns1_max-returns1_min)/bins\n",
    "\n",
    "bin_marks=[] #should have bins+1 marks\n",
    "for n in range(bins+1):\n",
    "    bin_marks.append(returns1_min+n*bin_width)\n",
    "    \n",
    "bin_marks[0]=bin_marks[0]*1.1\n",
    "bin_marks[-1]=bin_marks[-1]*1.1\n"
   ]
  },
  {
   "cell_type": "markdown",
   "metadata": {},
   "source": [
    "We then discretize the time series (a sequence of periods) of market returns into the 10 states."
   ]
  },
  {
   "cell_type": "code",
   "execution_count": null,
   "metadata": {
    "collapsed": true
   },
   "outputs": [],
   "source": [
    "%matplotlib inline"
   ]
  },
  {
   "cell_type": "code",
   "execution_count": null,
   "metadata": {
    "collapsed": true
   },
   "outputs": [],
   "source": [
    "#---Step2: discretize the data into different states------\n",
    "returns1_discretized=copy.copy(returns1_normalized) #(439, 768)\n",
    "for n in range(np.size(returns1_discretized,0)):\n",
    "    for pp in range(1,np.size(returns1_discretized,1)):  #0 is id \n",
    "        state=0\n",
    "        while state<11:             \n",
    "            if (returns1_normalized.iloc[n][pp] <= bin_marks[state]) & (returns1_normalized.iloc[n][pp]>= bin_marks[state-1]):\n",
    "                returns1_discretized.iloc[n][pp]=state\n",
    "                #print(str(n)+';'+str(pp))\n",
    "                break\n",
    "            else:\n",
    "                state=state+1\n",
    "                \n",
    "discrete_max=np.nanmax(returns1_discretized.iloc[0][1:].values)\n",
    "discrete_min=np.nanmin(returns1_discretized.iloc[0][1:].values)     \n",
    "\n"
   ]
  },
  {
   "cell_type": "markdown",
   "metadata": {},
   "source": [
    "Calculate the PDFs (Probability Distribution Function) of each company"
   ]
  },
  {
   "cell_type": "code",
   "execution_count": 42,
   "metadata": {},
   "outputs": [
    {
     "data": {
      "image/png": "[encoded data removed]",
      "text/plain": [
       "<matplotlib.figure.Figure at 0x1a118236d8>"
      ]
     },
     "metadata": {},
     "output_type": "display_data"
    }
   ],
   "source": [
    "#---Step3: PDF: hist: 439 companies, 10 states------\n",
    "hist=np.zeros(shape=(np.size(returns1_discretized,0),bins), dtype=int) #(439, 10)\n",
    "\n",
    "for n in range(np.size(returns1_discretized,0)):\n",
    "    A=returns1_discretized.iloc[n][1:].values\n",
    "    hist[n]=np.histogram(A[~np.isnan(A)], bins=10)[0]\n",
    "    \n",
    "choose=0 #choose a company: the first one for now\n",
    "A=returns1_discretized.iloc[choose][1:].values #the PDF of 1 company\n",
    "plt.hist(A[~np.isnan(A)],bins=10)  # arguments are passed to np.histogram\n",
    "plt.title(\"Histogram for state counts (the 1st company)\")\n",
    "plt.xlabel('states')\n",
    "plt.ylabel('Counts')\n",
    "plt.show()\n"
   ]
  },
  {
   "cell_type": "markdown",
   "metadata": {},
   "source": [
    "Now we compute the transition matrix for the Markov process. "
   ]
  },
  {
   "cell_type": "code",
   "execution_count": 41,
   "metadata": {
    "collapsed": true
   },
   "outputs": [],
   "source": [
    "#---Step4: transition matrix: one matrix each company------\n",
    "choose=0 #choose a company\n",
    "series=returns1_discretized.iloc[choose][1:] #767x1, Series, 0 is id\n",
    "\n",
    "def transition_matrix(series):\n",
    "#tot_jumps is len(series)-1\n",
    "#1  time series(discretized); return a flattened transition matrix for training  \n",
    "    bins=int(10)\n",
    "    transitions=np.zeros(shape=(bins,bins), dtype=float)\n",
    "    for m in range(len(series)-1):\n",
    "        if (math.isnan(series[m])==False) & (math.isnan(series[m+1])==False):\n",
    "            transitions[int(series[m]-1)][int(series[m+1]-1)]+=1\n",
    "    #normalize:\n",
    "    for rn in range(bins):\n",
    "        #print(str(rn)+';'+str(np.nansum(transitions[rn])))\n",
    "        if np.nansum(transitions[rn])!=0:\n",
    "            transitions[rn]=np.divide(transitions[rn],np.nansum(transitions[rn]))\n",
    "    return transitions\n",
    "\n",
    "feature_transition= transition_matrix(series) #10x10, syn if which is 1"
   ]
  },
  {
   "cell_type": "markdown",
   "metadata": {},
   "source": [
    "With the feature vector of transitions and the feature vector of PDF, we are ready to train our neural network. We first use 60% of the data (263 companies) for training."
   ]
  },
  {
   "cell_type": "code",
   "execution_count": 45,
   "metadata": {},
   "outputs": [
    {
     "data": {
      "text/plain": [
       "{'activation': 'relu',\n",
       " 'alpha': 0.001,\n",
       " 'batch_size': 'auto',\n",
       " 'beta_1': 0.9,\n",
       " 'beta_2': 0.999,\n",
       " 'early_stopping': False,\n",
       " 'epsilon': 1e-08,\n",
       " 'hidden_layer_sizes': (10,),\n",
       " 'learning_rate': 'constant',\n",
       " 'learning_rate_init': 0.01,\n",
       " 'max_iter': 1000,\n",
       " 'momentum': 0.9,\n",
       " 'nesterovs_momentum': True,\n",
       " 'power_t': 0.5,\n",
       " 'random_state': 9,\n",
       " 'shuffle': True,\n",
       " 'solver': 'adam',\n",
       " 'tol': 0.0001,\n",
       " 'validation_fraction': 0.1,\n",
       " 'verbose': False,\n",
       " 'warm_start': False}"
      ]
     },
     "execution_count": 45,
     "metadata": {},
     "output_type": "execute_result"
    }
   ],
   "source": [
    "train_perc=0.6\n",
    "total_companies=439\n",
    "hist_train=hist[0:int(total_companies*train_perc)] #(263, 10)\n",
    "\n",
    "bins=10\n",
    "transition_train=np.ndarray(shape=(int(total_companies*train_perc),bins*bins)) #(263, 100)\n",
    "for nn in range(int(total_companies*train_perc)):\n",
    "    series=returns1_discretized.iloc[nn][1:] #767x1, Series, 0 is id\n",
    "    transition_train[nn][:]=np.ndarray.flatten(transition_matrix(series))\n",
    " \n",
    "  \n",
    "input_train=np.concatenate((hist_train,transition_train),axis=1) #(263, 110), labels\n",
    "\n",
    "compJUST_train=comp_reduced[0:int(total_companies*train_perc)][:] #(263, 28), labels\n",
    "\n",
    "\n",
    "\n",
    "\n",
    "model = MLPRegressor(\n",
    "    hidden_layer_sizes=(10,),  activation='relu', solver='adam', alpha=0.001, batch_size='auto',\n",
    "    learning_rate='constant', learning_rate_init=0.01, power_t=0.5, max_iter=1000, shuffle=True,\n",
    "    random_state=9, tol=0.0001, verbose=False, warm_start=False, momentum=0.9, nesterovs_momentum=True,\n",
    "    early_stopping=False, validation_fraction=0.1, beta_1=0.9, beta_2=0.999, epsilon=1e-08)\n",
    "\n",
    "\n",
    "model.fit(input_train,compJUST_train)\n",
    "model.get_params() #is a dictionary\n",
    "#model.partial_fit(x, y)\n",
    "#evaluated=nn.score(x, y) #1 number: float\n"
   ]
  },
  {
   "cell_type": "markdown",
   "metadata": {},
   "source": [
    "Now with the model trained, we can use it to predict the JUST score with the knowledge of statistics (PDF and transition matrix) of the market returns. We use the other 40% of the test data sets (176 companies)."
   ]
  },
  {
   "cell_type": "code",
   "execution_count": 52,
   "metadata": {},
   "outputs": [
    {
     "data": {
      "text/plain": [
       "(176, 100)"
      ]
     },
     "execution_count": 52,
     "metadata": {},
     "output_type": "execute_result"
    }
   ],
   "source": [
    "test_perc=0.4\n",
    "total_companies=439\n",
    "hist_test=hist[int(total_companies*train_perc):] #(176, 10)\n",
    "\n",
    "bins=int(10)\n",
    "transition_test=np.ndarray(shape=(np.size(hist_test,0),bins*bins)) #(176, 100)\n",
    "counter=0\n",
    "for nn in range(np.size(hist_train,0),total_companies):\n",
    "    #print(nn)\n",
    "    series=returns1_discretized.iloc[nn][1:] #767x1, Series, 0 is id\n",
    "    transition_test[counter]=np.matrix.flatten(transition_matrix(series))\n",
    "    counter+=1\n",
    "\n"
   ]
  },
  {
   "cell_type": "code",
   "execution_count": 77,
   "metadata": {
    "collapsed": true
   },
   "outputs": [],
   "source": [
    "input_test=np.concatenate((hist_test,transition_test),axis=1) #(176, 110)\n",
    "\n",
    "compJUST_test=comp_reduced[int(total_companies*train_perc):][:] #(176, 28), labels\n",
    "\n",
    "compJUST_predicted=model.predict(input_test) #(176, 28)\n",
    "\n",
    "errors_test= np.sum(np.absolute(compJUST_predicted-compJUST_test),axis=1) #(176,)"
   ]
  },
  {
   "cell_type": "markdown",
   "metadata": {},
   "source": [
    "Now we choose a feature that well divides the companies into clusters and plot prediction errors against it."
   ]
  },
  {
   "cell_type": "code",
   "execution_count": 78,
   "metadata": {},
   "outputs": [
    {
     "data": {
      "image/png": "[encoded data removed]",
      "text/plain": [
       "<matplotlib.figure.Figure at 0x1a1ebe23c8>"
      ]
     },
     "metadata": {},
     "output_type": "display_data"
    }
   ],
   "source": [
    "leader_test=comp_vectors[1:,12] #(439,) #12, 21\n",
    "feature=feature_names[12]\n",
    "leader_test=leader_test[int(total_companies*train_perc):] #(176,)\n",
    "\n",
    "\n",
    "plt.figure(1, figsize=(4, 3))\n",
    "plt.clf()\n",
    "plt.axes([.2, .2, .7, .7])\n",
    "#plt.scatter(wgt_Y1, errors_Y1,marker='^',c='blue')\n",
    "plt.scatter(leader_test, errors_test,marker='o',c='red')\n",
    "plt.title('Figure 1: Predict JUST Scores')\n",
    "plt.axis('tight')\n",
    "plt.xlabel('Provided Paid Time Off')\n",
    "plt.ylabel('Prediction errors, % of the true magnitude')\n",
    "plt.savefig('/Users/xiaobooboo/Desktop/data_incubator/predict_score.pdf',format='pdf')\n",
    "plt.show()"
   ]
  },
  {
   "cell_type": "markdown",
   "metadata": {},
   "source": [
    "One last note for the prediction of JUST scores, further exploration of about the coefficients trained in our Multi-layer neural network need to be done in order to squeeze the human-languaged insights out about the relation between JUST scores and Market returns. "
   ]
  },
  {
   "cell_type": "markdown",
   "metadata": {},
   "source": [
    "The other goal for this project is to predict the other way around: given a JUST score, can we predict the Market returns?"
   ]
  },
  {
   "cell_type": "markdown",
   "metadata": {},
   "source": [
    "First, we need to construct the transition matrix for each company."
   ]
  },
  {
   "cell_type": "code",
   "execution_count": 79,
   "metadata": {
    "collapsed": true
   },
   "outputs": [],
   "source": [
    "choose=9\n",
    "series_build=returns1_discretized.iloc[choose][1:700] #(767,) #3, 8, 10, are interesting; 9 is good \n",
    "transitions=transition_matrix(series_build)\n",
    "\n",
    "series_true=returns1_discretized.iloc[choose][700:] #(767,)\n",
    "\n",
    "series_predict=copy.copy(series_true) #(767,)"
   ]
  },
  {
   "cell_type": "markdown",
   "metadata": {},
   "source": [
    "Also we need to write a function which generates a random number according to a given PDF. The method adopted here is Inverse Transform Sampling."
   ]
  },
  {
   "cell_type": "code",
   "execution_count": 80,
   "metadata": {
    "collapsed": true
   },
   "outputs": [],
   "source": [
    "def generator(cdf):\n",
    "    seed=random.random()\n",
    "    for n in range(len(cdf)-1):\n",
    "        if (seed>cdf[n]) & (seed<cdf[n+1]):\n",
    "            return n+1"
   ]
  },
  {
   "cell_type": "markdown",
   "metadata": {},
   "source": [
    "Now given an initial conditional state, we can start predicing the time sequence of market returns."
   ]
  },
  {
   "cell_type": "code",
   "execution_count": 95,
   "metadata": {
    "collapsed": true
   },
   "outputs": [],
   "source": [
    "previous=series_build.iloc[-1] #the initial condition\n",
    "\n",
    "pdf=transitions[int(previous)-1]\n",
    "cdf=np.cumsum(pdf)\n",
    "#plt.plot(cdf)\n",
    "\n",
    "cdf=np.insert(cdf, 0, 0)\n",
    "\n",
    "for sss in range(len(series_predict)):\n",
    "    series_predict.iloc[sss]=generator(cdf)\n",
    "    previous=series_predict.iloc[sss]\n",
    "    pdf=transitions[int(previous)-1]\n",
    "    cdf=np.cumsum(pdf)\n",
    "    cdf=np.insert(cdf, 0, 0)"
   ]
  },
  {
   "cell_type": "code",
   "execution_count": 96,
   "metadata": {},
   "outputs": [
    {
     "data": {
      "text/plain": [
       "Text(0,0.5,'discretized states')"
      ]
     },
     "execution_count": 96,
     "metadata": {},
     "output_type": "execute_result"
    },
    {
     "data": {
      "image/png": "[encoded data removed]",
      "text/plain": [
       "<matplotlib.figure.Figure at 0x1a1152b1d0>"
      ]
     },
     "metadata": {},
     "output_type": "display_data"
    }
   ],
   "source": [
    "\n",
    "# Two subplots, the axes array is 1-d\n",
    "f, axarr = plt.subplots(2, sharex=True,  sharey='all')\n",
    "axarr[0].plot(series_predict[0:35],'.',color='red')\n",
    "\n",
    "axarr[0].set_title('Predicted market returns')\n",
    "plt.xticks(np.arange(0, len(series_predict[0:35]), 3.0))\n",
    "axarr[1].plot(series_true[0:35],'.',color='blue')\n",
    "plt.xlabel('time')\n",
    "axarr[1].set_title('True market returns')\n",
    "axarr[0].set_ylabel('discretized states')\n",
    "axarr[1].set_ylabel('discretized states')\n"
   ]
  },
  {
   "cell_type": "code",
   "execution_count": null,
   "metadata": {
    "collapsed": true
   },
   "outputs": [],
   "source": []
  }
 ],
 "metadata": {
  "kernelspec": {
   "display_name": "Python 3",
   "language": "python",
   "name": "python3"
  },
  "language_info": {
   "codemirror_mode": {
    "name": "ipython",
    "version": 3
   },
   "file_extension": ".py",
   "mimetype": "text/x-python",
   "name": "python",
   "nbconvert_exporter": "python",
   "pygments_lexer": "ipython3",
   "version": "3.6.3"
  }
 },
 "nbformat": 4,
 "nbformat_minor": 2
}
